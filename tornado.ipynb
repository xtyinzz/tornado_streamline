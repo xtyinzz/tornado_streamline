{
 "cells": [
  {
   "cell_type": "code",
   "execution_count": 1,
   "metadata": {},
   "outputs": [],
   "source": [
    "import numpy as np\n",
    "import struct\n",
    "import sys\n",
    "import os\n",
    "from vec_io import get_zeroled_names, read_vec\n",
    "from vis_io import get_vtr, write_vtr, get_mesh, get_vtu, write_vtu\n",
    "import vtk\n",
    "from tqdm import tqdm, trange\n",
    "from vtkmodules.util import numpy_support\n",
    "\n",
    "%load_ext autoreload\n",
    "%autoreload 2"
   ]
  },
  {
   "cell_type": "code",
   "execution_count": 2,
   "metadata": {},
   "outputs": [],
   "source": [
    "# DEMO: reanme e.g. 1.vec to 01.vec with get_zeroled_names\n",
    "names, newnames = get_zeroled_names('data', '.vec', 1)\n",
    "for name, newname in zip(names, newnames):\n",
    "  os.rename(name, newname)"
   ]
  },
  {
   "cell_type": "code",
   "execution_count": 2,
   "metadata": {},
   "outputs": [],
   "source": [
    "vec_dir = 'data'\n",
    "vec_paths = sorted([os.path.join(vec_dir, vec_file) for vec_file in os.listdir(vec_dir)])\n",
    "vec0 = read_vec(vec_paths[9])"
   ]
  },
  {
   "cell_type": "code",
   "execution_count": 4,
   "metadata": {},
   "outputs": [
    {
     "name": "stdout",
     "output_type": "stream",
     "text": [
      "meshe generated: (24, 24, 24, 3)\n"
     ]
    }
   ],
   "source": [
    "# generate seeds in every on each grid point of (48,48,48)\n",
    "dim_coord = np.linspace(0, 1, 24, dtype=np.float32)\n",
    "mesh = get_mesh(dim_coord,dim_coord,dim_coord)\n",
    "mesh = mesh.reshape(-1, 3)\n",
    "seeds = vtk.vtkPoints()\n",
    "seeds.SetData(numpy_support.numpy_to_vtk(mesh))\n",
    "seeds_dataset = vtk.vtkPointSet()\n",
    "seeds_dataset.SetPoints(seeds)\n",
    "\n",
    "seeds_source = vtk.vtkPointSource()\n",
    "seeds_source.SetInputData(seeds_dataset)\n",
    "\n",
    "# get vector field in vtk format\n",
    "vec_vtr = get_vtr(vec0.shape[:-1], dim_coord, dim_coord, dim_coord, vector_fields={'velocity': vec0.reshape(-1, 3)})\n",
    "\n",
    "# specify the vector field for vtkStreamStracer\n",
    "aa = vtk.vtkAssignAttribute()\n",
    "ds = vtk.vtkDataSetAttributes()\n",
    "aa.SetInputData(vec_vtr)\n",
    "# 1=vtkDataSetAttribute::VECTOR\n",
    "# 0=vtkAssignAttribute::POINT_DATA\n",
    "aa.Assign('velocity', ds.VECTORS, aa.POINT_DATA)\n",
    "aa.Update()"
   ]
  },
  {
   "cell_type": "code",
   "execution_count": 13,
   "metadata": {},
   "outputs": [
    {
     "data": {
      "text/plain": [
       "10714"
      ]
     },
     "execution_count": 13,
     "metadata": {},
     "output_type": "execute_result"
    }
   ],
   "source": [
    "# get stream tracer\n",
    "init_steplen = 0.001\n",
    "tem_speed =1e-15\n",
    "max_error = 1e-6\n",
    "min_intsteplen = 0.0001\n",
    "max_intsteplen = 0.005\n",
    "max_steps = 1000\n",
    "max_length = 1\n",
    "\n",
    "st = vtk.vtkStreamTracer()\n",
    "\n",
    "# st.SetStartPosition(0.0, 0.0, 0.0)\n",
    "st.SetInputData(vec_vtr)\n",
    "# st.SetInputConnection(aa.GetOutputPort())\n",
    "# st.SetStartPosition(0,0,0)\n",
    "# st.SetSourceConnection(seeds_source.GetOutputPort())\n",
    "st.SetSourceData(seeds_dataset)\n",
    "\n",
    "integrator = vtk.vtkRungeKutta45()\n",
    "st.SetIntegratorTypeToRungeKutta45()\n",
    "st.SetIntegrationDirectionToForward()\n",
    "st.SetInitialIntegrationStep(init_steplen)\n",
    "st.SetMinimumIntegrationStep(min_intsteplen)\n",
    "st.SetMaximumIntegrationStep(max_intsteplen)\n",
    "st.SetMaximumNumberOfSteps(max_steps)\n",
    "st.SetMaximumPropagation(max_length)\n",
    "st.SetTerminalSpeed(tem_speed)\n",
    "st.SetIntegrationStepUnit(st.CELL_LENGTH_UNIT)\n",
    "\n",
    "\n",
    "# st.SetSourceData(seeds_dataset)\n",
    "\n",
    "st.Update()\n",
    "\n",
    "pdm = st.GetOutput()\n",
    "pdm.GetNumberOfCells()"
   ]
  },
  {
   "cell_type": "code",
   "execution_count": 14,
   "metadata": {},
   "outputs": [
    {
     "name": "stderr",
     "output_type": "stream",
     "text": [
      "100%|██████████| 10714/10714 [00:00<00:00, 35136.40it/s]\n"
     ]
    },
    {
     "data": {
      "text/plain": [
       "61.0"
      ]
     },
     "metadata": {},
     "output_type": "display_data"
    },
    {
     "data": {
      "text/plain": [
       "813.2893410490947"
      ]
     },
     "metadata": {},
     "output_type": "display_data"
    }
   ],
   "source": [
    "sls = [0]*pdm.GetNumberOfCells()\n",
    "ids = [0]*pdm.GetNumberOfCells()\n",
    "sl_lens = np.zeros(pdm.GetNumberOfCells())\n",
    "for i in trange(pdm.GetNumberOfCells()):\n",
    "  sl = pdm.GetCell(i)\n",
    "  points = sl.GetPoints()\n",
    "  points_np = numpy_support.vtk_to_numpy(points.GetData())\n",
    "  id_np = i*np.ones((len(points_np), 1))\n",
    "  sl_lens[i] = len(points_np)\n",
    "  ids[i] = id_np\n",
    "  sls[i] = points_np\n",
    "\n",
    "sl_points_pos = np.concatenate(sls)\n",
    "sl_points_id = np.concatenate(ids)\n",
    "display(sl_points_pos.max(), sl_lens.mean())"
   ]
  },
  {
   "cell_type": "code",
   "execution_count": 15,
   "metadata": {},
   "outputs": [],
   "source": [
    "sl_vtu = get_vtu(sl_points_pos, scalar_fields={'id': sl_points_id})\n",
    "write_vtu('mysl.vtu', sl_vtu)"
   ]
  }
 ],
 "metadata": {
  "interpreter": {
   "hash": "d82c3ef9a9c52ca48f89a57a471345d340895240528db2b7c56159ebd2138f11"
  },
  "kernelspec": {
   "display_name": "Python 3.7.10 ('vis': conda)",
   "language": "python",
   "name": "python3"
  },
  "language_info": {
   "codemirror_mode": {
    "name": "ipython",
    "version": 3
   },
   "file_extension": ".py",
   "mimetype": "text/x-python",
   "name": "python",
   "nbconvert_exporter": "python",
   "pygments_lexer": "ipython3",
   "version": "3.7.10"
  },
  "orig_nbformat": 4
 },
 "nbformat": 4,
 "nbformat_minor": 2
}
